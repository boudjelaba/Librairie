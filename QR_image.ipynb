{
 "cells": [
  {
   "cell_type": "markdown",
   "id": "7499f91d",
   "metadata": {},
   "source": [
    "## Méthode 1"
   ]
  },
  {
   "cell_type": "code",
   "execution_count": 1,
   "id": "49aae8a0",
   "metadata": {
    "scrolled": true
   },
   "outputs": [
    {
     "name": "stdout",
     "output_type": "stream",
     "text": [
      "Collecting segno\n",
      "  Downloading segno-1.5.2-py2.py3-none-any.whl (83 kB)\n",
      "\u001b[K     |████████████████████████████████| 83 kB 1.1 MB/s eta 0:00:01\n",
      "\u001b[?25hInstalling collected packages: segno\n",
      "Successfully installed segno-1.5.2\n"
     ]
    }
   ],
   "source": [
    "!pip install segno"
   ]
  },
  {
   "cell_type": "code",
   "execution_count": 14,
   "id": "ab21223d",
   "metadata": {},
   "outputs": [],
   "source": [
    "import segno\n",
    "\n",
    "qrcode = segno.make_qr(\"Charles Carnus\")\n",
    "qrcode.save(\n",
    "    \"b3_qrcode.png\",\n",
    "    scale=5,\n",
    "    border=10,\n",
    "    light=\"lightblue\",\n",
    "    dark=\"darkblue\",\n",
    "    quiet_zone=\"lightgrey\",\n",
    "    data_dark=\"orange\",\n",
    "    data_light=\"lightgreen\",\n",
    ")"
   ]
  },
  {
   "cell_type": "code",
   "execution_count": 16,
   "id": "21dab26b",
   "metadata": {},
   "outputs": [
    {
     "name": "stdout",
     "output_type": "stream",
     "text": [
      "Requirement already satisfied: pillow in ./opt/anaconda3/lib/python3.9/site-packages (8.4.0)\n",
      "Collecting qrcode-artistic\n",
      "  Downloading qrcode_artistic-2.1.0-py2.py3-none-any.whl (6.8 kB)\n",
      "Installing collected packages: qrcode-artistic\n",
      "Successfully installed qrcode-artistic-2.1.0\n"
     ]
    }
   ],
   "source": [
    "!pip install pillow qrcode-artistic"
   ]
  },
  {
   "cell_type": "code",
   "execution_count": 19,
   "id": "3ffe278c",
   "metadata": {},
   "outputs": [],
   "source": [
    "import segno\n",
    "from urllib.request import urlopen\n",
    "\n",
    "slts_qrcode = segno.make_qr(\"https://www.carnus.fr\")\n",
    "\"\"\"nirvana_url = urlopen(\"https://media.giphy.com/media/LpwBqCorPvZC0/giphy.gif\")\n",
    "slts_qrcode.to_artistic(\n",
    "    background=nirvana_url,\n",
    "    target=\"animated_qrcode.gif\",\n",
    "    scale=5,\n",
    ")\"\"\"\n",
    "qrcode.save(\n",
    "    \"b0_qrcode.png\",\n",
    "    scale=5,\n",
    "    border=10,\n",
    "    light=\"lightblue\",\n",
    "    dark=\"darkblue\",\n",
    "    quiet_zone=\"lightgrey\",\n",
    "    data_dark=\"orange\",\n",
    "    data_light=\"lightgreen\",\n",
    ")"
   ]
  },
  {
   "cell_type": "markdown",
   "id": "eb41671b",
   "metadata": {},
   "source": [
    "## Méthode 2\n",
    "\n",
    "`!pip3 install opencv-python qrcode numpy`"
   ]
  },
  {
   "cell_type": "code",
   "execution_count": 20,
   "id": "f936ed8e",
   "metadata": {},
   "outputs": [],
   "source": [
    "import qrcode\n",
    "# Données\n",
    "data = \"https://www.carnus.fr\"\n",
    "# Nom du fichier de sortie\n",
    "filename = \"b4_qrcode.png\"\n",
    "# Générer le code\n",
    "img = qrcode.make(data)\n",
    "# Sauvegarder l'image\n",
    "img.save(filename)"
   ]
  },
  {
   "cell_type": "code",
   "execution_count": 21,
   "id": "14258322",
   "metadata": {},
   "outputs": [
    {
     "name": "stdout",
     "output_type": "stream",
     "text": [
      "La forme de l'image : (33, 33)\n"
     ]
    }
   ],
   "source": [
    "import qrcode\n",
    "import numpy as np\n",
    "\n",
    "data = \"https://www.carnus.f\"\n",
    "qr = qrcode.QRCode(version=1, box_size=10, border=4)\n",
    "qr.add_data(data)\n",
    "qr.make()\n",
    "\n",
    "print(\"La taille de l'image :\", np.array(qr.get_matrix()).shape)\n",
    "# Transférer la matrice vers l'image actuele\n",
    "img = qr.make_image(fill_color=\"white\", back_color=\"black\")\n",
    "# Sauvegarder\n",
    "img.save(\"b5_qrcode.png\")"
   ]
  },
  {
   "cell_type": "markdown",
   "id": "17d7e1fc",
   "metadata": {},
   "source": [
    "### Lecture du QR code"
   ]
  },
  {
   "cell_type": "code",
   "execution_count": null,
   "id": "30fdcfee",
   "metadata": {},
   "outputs": [],
   "source": [
    "import cv2\n",
    "# Lecture de l'image QR code\n",
    "img = cv2.imread(\"b5_qrcode.png\")\n",
    "\n",
    "# Initialiser le détecteur QRCode cv2\n",
    "detector = cv2.QRCodeDetector()\n",
    "\n",
    "# Détecter et décoder\n",
    "data, bbox, straight_qrcode = detector.detectAndDecode(img)\n",
    "\n",
    "# S'il y a un code QR\n",
    "if bbox is not None:\n",
    "    print(f\"Données du QR Code :\\n{data}\")\n",
    "    # Afficher l'image avec la longueur des lignes du cadre de délimitation\n",
    "    n_lines = len(bbox)\n",
    "    for i in range(n_lines):\n",
    "        # Tracer toutes les lignes\n",
    "        point1 = tuple(bbox[i][0])\n",
    "        point2 = tuple(bbox[(i+1) % n_lines][0])\n",
    "        cv2.line(img, point1, point2, color=(255, 0, 0), thickness=2)\n",
    "\n",
    "# Afficher le résultat\n",
    "cv2.imshow(\"img\", img)\n",
    "cv2.waitKey(0)\n",
    "cv2.destroyAllWindows()"
   ]
  },
  {
   "cell_type": "markdown",
   "id": "fcdf0b57",
   "metadata": {},
   "source": [
    "`!pip3 install opencv-python qrcode numpy Image`\n",
    "\n",
    "https://technochouette.istocks.club/comment-creer-et-decoder-un-code-qr-a-laide-de-python/2021-03-31/"
   ]
  },
  {
   "cell_type": "code",
   "execution_count": 4,
   "id": "1a47504c",
   "metadata": {},
   "outputs": [
    {
     "name": "stdout",
     "output_type": "stream",
     "text": [
      "Données du QR Code :\n",
      "https://www.carnus.fr\n"
     ]
    }
   ],
   "source": [
    "import cv2\n",
    "\n",
    "filename = \"b4_qrcode.png\"\n",
    "# Lecture de l'image QR code\n",
    "image = cv2.imread(filename)\n",
    "\n",
    "detector = cv2.QRCodeDetector()\n",
    "# Détection et décodage\n",
    "data, vertices_array, binary_qrcode = detector.detectAndDecode(image)\n",
    "# S'il y a un code QR, afficher les données\n",
    "if vertices_array is not None:\n",
    "    print(\"Données du QR Code :\")\n",
    "    print(data)\n",
    "else:\n",
    "    print(\"Erreur\")"
   ]
  },
  {
   "cell_type": "markdown",
   "id": "892817ee",
   "metadata": {},
   "source": [
    "### Insérer un QR code dans une image"
   ]
  },
  {
   "cell_type": "code",
   "execution_count": 5,
   "id": "9f8d76e5",
   "metadata": {},
   "outputs": [],
   "source": [
    "import qrcode\n",
    "from PIL import Image\n",
    "\n",
    "img_bg = Image.open('Lenna.jpg')\n",
    "\n",
    "qr = qrcode.QRCode(box_size=2)\n",
    "qr.add_data('Je suis Lenna')\n",
    "qr.make()\n",
    "img_qr = qr.make_image()\n",
    "\n",
    "pos = (img_bg.size[0] - img_qr.size[0], img_bg.size[1] - img_qr.size[1])\n",
    "\n",
    "img_bg.paste(img_qr, pos)\n",
    "img_bg.save('qr_lenna.png')"
   ]
  },
  {
   "cell_type": "markdown",
   "id": "ba266656",
   "metadata": {},
   "source": [
    "### Insérer une image dans un QR code"
   ]
  },
  {
   "cell_type": "code",
   "execution_count": 35,
   "id": "88f25b3c",
   "metadata": {},
   "outputs": [],
   "source": [
    "face = Image.open('Lenna.jpg').crop((100, 50, 180, 120))\n",
    "\n",
    "qr_big = qrcode.QRCode(\n",
    "    error_correction=qrcode.constants.ERROR_CORRECT_H\n",
    ")\n",
    "qr_big.add_data('Je suis Lenna')\n",
    "qr_big.make()\n",
    "img_qr_big = qr_big.make_image().convert('RGB')\n",
    "\n",
    "pos = ((img_qr_big.size[0] - face.size[0]) // 2, (img_qr_big.size[1] - face.size[1]) // 2)\n",
    "\n",
    "img_qr_big.paste(face, pos)\n",
    "img_qr_big.save('qr_lena3.png')"
   ]
  },
  {
   "cell_type": "markdown",
   "id": "b684e75b",
   "metadata": {},
   "source": [
    "---\n",
    "---\n",
    "\n",
    "## Traitement d'images"
   ]
  },
  {
   "cell_type": "code",
   "execution_count": 22,
   "id": "770e7df1",
   "metadata": {},
   "outputs": [],
   "source": [
    "from PIL import Image, ImageDraw, ImageFilter\n",
    "\n",
    "im_rgb = Image.open('Lenna.jpg')"
   ]
  },
  {
   "cell_type": "code",
   "execution_count": 23,
   "id": "989b121a",
   "metadata": {},
   "outputs": [],
   "source": [
    "im_rgba = im_rgb.copy()\n",
    "im_rgba.putalpha(128)\n",
    "im_rgba.save('pillow_Lenna.png')"
   ]
  },
  {
   "cell_type": "code",
   "execution_count": 24,
   "id": "f1ac46d4",
   "metadata": {},
   "outputs": [],
   "source": [
    "im_a = Image.new(\"L\", im_rgb.size, 0)\n",
    "draw = ImageDraw.Draw(im_a)\n",
    "draw.ellipse((80, 50, 200, 170), fill=255)"
   ]
  },
  {
   "cell_type": "code",
   "execution_count": 25,
   "id": "e680b4df",
   "metadata": {},
   "outputs": [],
   "source": [
    "im_rgba = im_rgb.copy()\n",
    "im_rgba.putalpha(im_a)\n",
    "im_rgba_crop = im_rgba.crop((80, 50, 200, 170))\n",
    "im_rgba_crop.save('pillow_Lenna_c.png')"
   ]
  },
  {
   "cell_type": "markdown",
   "id": "cef73291",
   "metadata": {},
   "source": [
    "https://apprendrepython.com/creer-une-image-png-transparente-avec-python-pillow-putalpha/"
   ]
  },
  {
   "cell_type": "code",
   "execution_count": null,
   "id": "34418607",
   "metadata": {},
   "outputs": [],
   "source": []
  }
 ],
 "metadata": {
  "kernelspec": {
   "display_name": "Python 3 (ipykernel)",
   "language": "python",
   "name": "python3"
  },
  "language_info": {
   "codemirror_mode": {
    "name": "ipython",
    "version": 3
   },
   "file_extension": ".py",
   "mimetype": "text/x-python",
   "name": "python",
   "nbconvert_exporter": "python",
   "pygments_lexer": "ipython3",
   "version": "3.9.7"
  }
 },
 "nbformat": 4,
 "nbformat_minor": 5
}
